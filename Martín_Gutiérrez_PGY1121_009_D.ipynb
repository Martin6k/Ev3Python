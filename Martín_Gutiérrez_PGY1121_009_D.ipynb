{
  "nbformat": 4,
  "nbformat_minor": 0,
  "metadata": {
    "colab": {
      "provenance": []
    },
    "kernelspec": {
      "name": "python3",
      "display_name": "Python 3"
    },
    "language_info": {
      "name": "python"
    }
  },
  "cells": [
    {
      "cell_type": "code",
      "source": [
        "nif1=0\n",
        "nif2=0\n",
        "nif3=0\n",
        "nif4=0\n",
        "nif5=0\n",
        "import numpy as np\n",
        "nif_arreglo = np.array([nif1,nif2,nif3,nif4,nif5])\n",
        "def crear_nif(a,b):\n",
        "    guardar_nif = (f\"{a}-{b}\")\n",
        "    return(guardar_nif)\n",
        "\n",
        "print(\"Creacion nif 1\")\n",
        "ing_nif = int(input(\"ingrese secuencia numerica del nif de max 8 numeros:\"))\n",
        "nif_ver = (str(input(\"ingrese secuencia verificadora del nif de max 3 letras:\")))\n",
        "\n",
        "nif1 = crear_nif(ing_nif,nif_ver)\n",
        "print(nif1)\n",
        "\n",
        "print(\"Creacion nif 2\")\n",
        "ing_nif2 = int(input(\"ingrese secuencia numerica del nif de max 8 numeros:\"))\n",
        "nif_ver2 = (str(input(\"ingrese secuencia verificadora del nif de max 3 letras:\")))\n",
        "\n",
        "nif2 = crear_nif(ing_nif2,nif_ver2)\n",
        "print(nif2)\n",
        "\n",
        "\n",
        "print(\"Creacion nif 3\")\n",
        "ing_nif3 = int(input(\"ingrese secuencia numerica del nif de max 8 numeros:\"))\n",
        "nif_ver3 = (str(input(\"ingrese secuencia verificadora del nif de max 3 letras:\")))\n",
        "\n",
        "nif3 = crear_nif(ing_nif3,nif_ver3)\n",
        "print(nif3)\n",
        "\n",
        "print(\"Creacion nif 4\")\n",
        "ing_nif4 = int(input(\"ingrese secuencia numerica del nif de max 8 numeros:\"))\n",
        "nif_ver4 = (str(input(\"ingrese secuencia verificadora del nif de max 3 letras:\")))\n",
        "\n",
        "nif4 = crear_nif(ing_nif4,nif_ver4)\n",
        "print(nif4)\n",
        "\n",
        "print(\"Creacion nif 5\")\n",
        "ing_nif5 = int(input(\"ingrese secuencia numerica del nif de max 8 numeros:\"))\n",
        "nif_ver5 = (str(input(\"ingrese secuencia verificadora del nif de max 3 letras:\")))\n",
        "\n",
        "nif5 = crear_nif(ing_nif5,nif_ver5)\n",
        "print(nif5)\n",
        "\n",
        "nif_arreglo = np.array([nif1,nif2,nif3,nif4,nif5])\n",
        "print(f\"LOS NIF GUARDADOS EN EL SISTEMA SON:{nif_arreglo}\")\n"
      ],
      "metadata": {
        "colab": {
          "base_uri": "https://localhost:8080/",
          "height": 131
        },
        "id": "Vu1-VQHoMeua",
        "outputId": "74de1db8-1e48-4427-f751-453709c741cd"
      },
      "execution_count": 40,
      "outputs": [
        {
          "output_type": "error",
          "ename": "SyntaxError",
          "evalue": "ignored",
          "traceback": [
            "\u001b[0;36m  File \u001b[0;32m\"<ipython-input-40-e712911bf2cb>\"\u001b[0;36m, line \u001b[0;32m49\u001b[0m\n\u001b[0;31m    print(\"LOS NIF GUARDADOS EN EL SISTEMA SON:\"nif_arreglo)\u001b[0m\n\u001b[0m          ^\u001b[0m\n\u001b[0;31mSyntaxError\u001b[0m\u001b[0;31m:\u001b[0m invalid syntax. Perhaps you forgot a comma?\n"
          ]
        }
      ]
    }
  ]
}